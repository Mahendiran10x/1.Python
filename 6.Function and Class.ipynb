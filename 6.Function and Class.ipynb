{
 "cells": [
  {
   "cell_type": "markdown",
   "id": "5c8b9eb6-bb0a-47f5-962b-67a89a936086",
   "metadata": {},
   "source": [
    "# Create a class and function, and list out the items in the list"
   ]
  },
  {
   "cell_type": "code",
   "execution_count": 38,
   "id": "f349d334-4d24-4dcf-82f2-6d87bb315c11",
   "metadata": {},
   "outputs": [],
   "source": [
    "def Subfields():\n",
    "    \n",
    "    print(\"Sub-Fields in AI are :\")\n",
    "    \n",
    "    List = ('Machine Learning','Neural Networks','Vision','Robotics Speech Processing','Natural Language Processing')\n",
    "    for i in List:\n",
    "        print(i)\n",
    "    return"
   ]
  },
  {
   "cell_type": "code",
   "execution_count": 40,
   "id": "4b0953f3-5ab8-4ec6-bbe3-ee1252220a0d",
   "metadata": {},
   "outputs": [
    {
     "name": "stdout",
     "output_type": "stream",
     "text": [
      "Sub-Fields in AI are :\n",
      "Machine Learning\n",
      "Neural Networks\n",
      "Vision\n",
      "Robotics Speech Processing\n",
      "Natural Language Processing\n"
     ]
    }
   ],
   "source": [
    "Subfields()"
   ]
  },
  {
   "cell_type": "code",
   "execution_count": 9,
   "id": "3870c840-5abd-4670-ab27-5a78f8016a78",
   "metadata": {},
   "outputs": [],
   "source": [
    "class ItemList:\n",
    "    def __init__(self, items):\n",
    "        # Initialize the class with a list of items\n",
    "        self.items = items\n",
    "\n",
    "    # Define a function that lists the items in the list\n",
    "    def list_items(self):\n",
    "        print(\"Items in the list:\")\n",
    "        for item in self.items:\n",
    "            print(item)\n",
    "\n",
    "def list_items(self):\n",
    "        print(\"Items in the list:\")\n",
    "        for item in self.items:\n",
    "            print(item)"
   ]
  },
  {
   "cell_type": "code",
   "execution_count": 10,
   "id": "196034d6-3f6d-4ced-b4a4-a56e6d78c0b3",
   "metadata": {},
   "outputs": [
    {
     "name": "stdout",
     "output_type": "stream",
     "text": [
      "Items in the list:\n",
      "apple\n",
      "banana\n",
      "cherry\n",
      "date\n"
     ]
    }
   ],
   "source": [
    "my_list = ItemList([\"apple\", \"banana\", \"cherry\", \"date\"])\n",
    "my_list.list_items()"
   ]
  },
  {
   "cell_type": "code",
   "execution_count": null,
   "id": "ab19c2df-8a40-401c-ab7a-52ed9839f2ae",
   "metadata": {},
   "outputs": [],
   "source": [
    "# Create a function that checks whether the given number is Odd or Even\n",
    "\n",
    "def check_odd_even(number):\n",
    "    # Check if the number is even\n",
    "    if number % 2 == 0:\n",
    "        return f\"{number} is Even\"\n",
    "    else:\n",
    "        return f\"{number} is Odd\"\n",
    "\n",
    "# Example usage:\n",
    "num = 7\n",
    "result = check_odd_even(num)\n",
    "print(result)\n"
   ]
  },
  {
   "cell_type": "code",
   "execution_count": 59,
   "id": "9458412a-a13f-4335-9964-a5d685458b4e",
   "metadata": {},
   "outputs": [],
   "source": [
    "def oddeven():\n",
    "    N =int(input('Enter a number:'))\n",
    "    if ( N % 2 == 1 ):\n",
    "        message=F'{N} is Odd Number'\n",
    "    else:\n",
    "        message=F'{N} is Even Number'\n",
    "        return message"
   ]
  },
  {
   "cell_type": "code",
   "execution_count": 60,
   "id": "f5aa727d-656c-4686-a6a0-6c1fadbe41f4",
   "metadata": {},
   "outputs": [
    {
     "name": "stdin",
     "output_type": "stream",
     "text": [
      "Enter a number: 52452\n"
     ]
    },
    {
     "data": {
      "text/plain": [
       "'52452 is Even Number'"
      ]
     },
     "execution_count": 60,
     "metadata": {},
     "output_type": "execute_result"
    }
   ],
   "source": [
    "oddeven()"
   ]
  },
  {
   "cell_type": "code",
   "execution_count": null,
   "id": "fae01d0e-6c55-4f88-9788-488e88d00bdd",
   "metadata": {},
   "outputs": [],
   "source": [
    "# Create a function that tells elegibility of marriage for male and female according to the age limit like 21 for male and 18 for female:\n",
    "\n",
    "def check_marriage_eligibility(gender, age):\n",
    "    # Convert gender input to lowercase to handle variations in input\n",
    "    gender = gender.lower()\n",
    "    \n",
    "    # Check eligibility based on gender and age\n",
    "    if gender == 'male':\n",
    "        if age >= 21:\n",
    "            return \"Eligible for marriage\"\n",
    "        else:\n",
    "            return \"Not eligible for marriage, must be at least 21 years old\"\n",
    "    \n",
    "    elif gender == 'female':\n",
    "        if age >= 18:\n",
    "            return \"Eligible for marriage\"\n",
    "        else:\n",
    "            return \"Not eligible for marriage, must be at least 18 years old\"\n",
    "    \n",
    "    else:\n",
    "        return \"Invalid gender input, please enter 'male' or 'female'\"\n",
    "\n",
    "# Example usage:\n",
    "gender_input = input(\"Enter gender (male/female): \")\n",
    "age_input = int(input(\"Enter age: \"))\n",
    "\n",
    "result = check_marriage_eligibility(gender_input, age_input)\n",
    "print(result)\n"
   ]
  },
  {
   "cell_type": "code",
   "execution_count": 75,
   "id": "d74c6365-d3aa-4b64-b8cd-42e8d831675c",
   "metadata": {},
   "outputs": [],
   "source": [
    "def minage():\n",
    "    V = int(input('Enter Your age :'))\n",
    "    S = input('Male/Female :')\n",
    "    \n",
    "    if S == 'Male':\n",
    "        if V >= 21:\n",
    "            message = \"You are eligible\"\n",
    "            return message\n",
    "    elif S == 'Female':\n",
    "        if V >= 18:\n",
    "            message = \"You are eligible\"\n",
    "            return message\n",
    "    else:\n",
    "        message = \"You are not eligible\"\n",
    "        return message"
   ]
  },
  {
   "cell_type": "code",
   "execution_count": 76,
   "id": "73151be7-47ab-4e05-9575-4d102e55bb26",
   "metadata": {},
   "outputs": [
    {
     "name": "stdin",
     "output_type": "stream",
     "text": [
      "Enter Your age : 26\n",
      "Male/Female : Male\n"
     ]
    },
    {
     "data": {
      "text/plain": [
       "'You are eligible'"
      ]
     },
     "execution_count": 76,
     "metadata": {},
     "output_type": "execute_result"
    }
   ],
   "source": [
    "minage()"
   ]
  },
  {
   "cell_type": "code",
   "execution_count": null,
   "id": "23f70789-9431-49f0-a99b-a8637a658d4e",
   "metadata": {},
   "outputs": [],
   "source": [
    "# calculate the percentage of your 10th mark\n",
    "\n",
    "# Marks obtained in each subject\n",
    "subject1 = 98\n",
    "subject2 = 87\n",
    "subject3 = 95\n",
    "subject4 = 95\n",
    "subject5 = 93\n",
    "\n",
    "# Total marks obtained\n",
    "total_marks_obtained = subject1 + subject2 + subject3 + subject4 + subject5\n",
    "\n",
    "# Assuming each subject is out of 100 marks, so the total maximum marks would be 500\n",
    "total_maximum_marks = 500  # 5 subjects * 100 marks each\n",
    "\n",
    "# Calculate percentage\n",
    "percentage = (total_marks_obtained / total_maximum_marks) * 100\n",
    "\n",
    "# Print the total and percentage\n",
    "print(f\"Total Marks: {total_marks_obtained}\")\n",
    "print(f\"Percentage: {percentage}\")"
   ]
  },
  {
   "cell_type": "code",
   "execution_count": 37,
   "id": "3bbc8c44-a8c4-41a5-89bc-ff06885365f8",
   "metadata": {},
   "outputs": [],
   "source": [
    "def markpct():\n",
    "    S1 =int(input('subject 1 ='))\n",
    "    S2 =int(input('subject 2 ='))\n",
    "    S3 =int(input('subject 3 ='))\n",
    "    S4 =int(input('subject 4 ='))\n",
    "    S5 =int(input('subject 5 ='))\n",
    "    \n",
    "    S= S1 + S2 + S3 + S4 + S5\n",
    "    \n",
    "    total = 500\n",
    "    \n",
    "    PCT = ( S / total ) * 100\n",
    "\n",
    "    print (f'Total : {S}')\n",
    "    print (f'Percentage : {PCT:.14f}')"
   ]
  },
  {
   "cell_type": "code",
   "execution_count": 40,
   "id": "3888c8df-735c-47f4-9e17-8cd2881d5e46",
   "metadata": {},
   "outputs": [
    {
     "name": "stdin",
     "output_type": "stream",
     "text": [
      "subject 1 = 98\n",
      "subject 2 = 87\n",
      "subject 3 = 95\n",
      "subject 4 = 95\n",
      "subject 5 = 93\n"
     ]
    },
    {
     "name": "stdout",
     "output_type": "stream",
     "text": [
      "Total : 468\n",
      "Percentage : 93.60000000000001\n"
     ]
    }
   ],
   "source": [
    "markpct()"
   ]
  },
  {
   "cell_type": "code",
   "execution_count": null,
   "id": "d2f714f0-03f1-4f2d-9f54-d5b55226cfad",
   "metadata": {},
   "outputs": [],
   "source": [
    "# Function to calculate the area of a triangle\n",
    "def calculate_area(height, breadth):\n",
    "    area = (height * breadth) / 2\n",
    "    return area\n",
    "\n",
    "# Function to calculate the perimeter of a triangle\n",
    "def calculate_perimeter(height1, height2, breadth):\n",
    "    perimeter = height1 + height2 + breadth\n",
    "    return perimeter\n",
    "\n",
    "# Inputs for area calculation\n",
    "height = 32\n",
    "breadth = 34\n",
    "area = calculate_area(height, breadth)\n",
    "print(f\"Height: {height}\")\n",
    "print(f\"Breadth: {breadth}\")\n",
    "print(f\"Area formula: (Height * Breadth) / 2\")\n",
    "print(f\"Area of Triangle: {area}\")\n",
    "\n",
    "# Inputs for perimeter calculation\n",
    "height1 = 2\n",
    "height2 = 4\n",
    "breadth = 4\n",
    "perimeter = calculate_perimeter(height1, height2, breadth)\n",
    "print(f\"\\nHeight1: {height1}\")\n",
    "print(f\"Height2: {height2}\")\n",
    "print(f\"Breadth: {breadth}\")\n",
    "print(f\"Perimeter formula: Height1 + Height2 + Breadth\")\n",
    "print(f\"Perimeter of Triangle: {perimeter}\")\n"
   ]
  },
  {
   "cell_type": "code",
   "execution_count": 51,
   "id": "7c5f1c42-9a9c-466c-8778-cefc86079104",
   "metadata": {},
   "outputs": [],
   "source": [
    "#print area and perimeter of triangle using class and functions"
   ]
  },
  {
   "cell_type": "code",
   "execution_count": 58,
   "id": "cba301ea-17a6-485e-9cb8-336bd265abb5",
   "metadata": {},
   "outputs": [],
   "source": [
    "class Area_Perimeter():\n",
    "    def ArPer():\n",
    "        H =int(input('Height :'))\n",
    "        B =int(input('Breadth :'))\n",
    "        A = ( H * B ) / 2\n",
    "        print(f'Area formula : ( Height * Beadth ) / 2')\n",
    "        print(f'Area of triangle : {A}')\n",
    "        H1 =int(input('Height 1 :'))\n",
    "        H2 =int(input('Height 2 :'))\n",
    "        B =int(input('Breadth :'))\n",
    "        P = H1 + H2 + B\n",
    "        print(f'Perimeter formula : ( Height1 + Height2 + Perimeter)')\n",
    "        print(f'Perimeter of triangle : {P}')"
   ]
  },
  {
   "cell_type": "code",
   "execution_count": 60,
   "id": "4359e3cd-7ba4-43cd-b7fe-0068cf8e3f75",
   "metadata": {},
   "outputs": [
    {
     "name": "stdin",
     "output_type": "stream",
     "text": [
      "Height : 32\n",
      "Breadth : 34\n"
     ]
    },
    {
     "name": "stdout",
     "output_type": "stream",
     "text": [
      "Area formula : ( Height * Beadth ) / 2\n",
      "Area of triangle : 544.0\n"
     ]
    },
    {
     "name": "stdin",
     "output_type": "stream",
     "text": [
      "Height 1 : 2\n",
      "Height 2 : 4\n",
      "Breadth : 4\n"
     ]
    },
    {
     "name": "stdout",
     "output_type": "stream",
     "text": [
      "Perimeter formula : ( Height1 + Height2 + Perimeter)\n",
      "Perimeter of triangle : 10\n"
     ]
    }
   ],
   "source": [
    "Area_Perimeter.ArPer()"
   ]
  },
  {
   "cell_type": "code",
   "execution_count": null,
   "id": "e0be92b4-32a2-46c8-b291-c7b5941325c0",
   "metadata": {},
   "outputs": [],
   "source": []
  }
 ],
 "metadata": {
  "kernelspec": {
   "display_name": "Python 3 (ipykernel)",
   "language": "python",
   "name": "python3"
  },
  "language_info": {
   "codemirror_mode": {
    "name": "ipython",
    "version": 3
   },
   "file_extension": ".py",
   "mimetype": "text/x-python",
   "name": "python",
   "nbconvert_exporter": "python",
   "pygments_lexer": "ipython3",
   "version": "3.12.4"
  }
 },
 "nbformat": 4,
 "nbformat_minor": 5
}
