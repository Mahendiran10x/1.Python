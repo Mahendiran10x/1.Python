{
 "cells": [
  {
   "cell_type": "code",
   "execution_count": 3,
   "id": "d0ecae65-9fb6-412c-9a7f-8d90535b0895",
   "metadata": {},
   "outputs": [
    {
     "name": "stdout",
     "output_type": "stream",
     "text": [
      "add\n"
     ]
    }
   ],
   "source": [
    "num1=10\n",
    "num2=30\n",
    "add=num1+num2\n",
    "print(\"add\")"
   ]
  },
  {
   "cell_type": "code",
   "execution_count": 4,
   "id": "40ca292c-bf67-4704-921c-03378a87418a",
   "metadata": {},
   "outputs": [
    {
     "name": "stdout",
     "output_type": "stream",
     "text": [
      "add\n",
      "40\n"
     ]
    }
   ],
   "source": [
    "num1=10\n",
    "num2=30\n",
    "add=num1+num2\n",
    "print(\"add\")\n",
    "print(add)"
   ]
  },
  {
   "cell_type": "code",
   "execution_count": 6,
   "id": "412e1919-304a-4f80-8a94-23886689b02d",
   "metadata": {},
   "outputs": [],
   "source": [
    "FirstName=\"mahendiran S\""
   ]
  },
  {
   "cell_type": "code",
   "execution_count": 7,
   "id": "0b9d320d-6803-415d-8d5a-c17c6362a714",
   "metadata": {},
   "outputs": [],
   "source": [
    "firstName=\"Hello\""
   ]
  },
  {
   "cell_type": "code",
   "execution_count": 9,
   "id": "65cc6d6b-016d-4837-b86f-6ed88209baa7",
   "metadata": {},
   "outputs": [],
   "source": [
    "f2stname=\"bye\""
   ]
  },
  {
   "cell_type": "code",
   "execution_count": 16,
   "id": "3465ad59-3e63-40d2-89ad-894d60dce308",
   "metadata": {},
   "outputs": [
    {
     "name": "stdout",
     "output_type": "stream",
     "text": [
      "The addition of two numbers\n",
      "The Number1: 10\n",
      "The number2: 25\n",
      "Thr Answer= 35\n",
      "Thr answer= 35\n"
     ]
    }
   ],
   "source": [
    "print(\"The addition of two numbers\")\n",
    "num1=10\n",
    "print(\"The Number1:\",num1)\n",
    "num2=25\n",
    "print(\"The number2:\",num2)\n",
    "print(\"Thr Answer=\",num1+num2)\n",
    "add=num1+num2\n",
    "print(\"Thr answer=\",add)"
   ]
  },
  {
   "cell_type": "code",
   "execution_count": 17,
   "id": "1ba3ced5-81ae-4717-8912-65bb667f9d70",
   "metadata": {},
   "outputs": [
    {
     "name": "stdin",
     "output_type": "stream",
     "text": [
      "Enter the num1: 13\n"
     ]
    }
   ],
   "source": [
    "num1=input(\"Enter the num1:\")"
   ]
  },
  {
   "cell_type": "code",
   "execution_count": 19,
   "id": "5adbcd4a-f866-46ed-bc22-51f22819600a",
   "metadata": {},
   "outputs": [
    {
     "name": "stdin",
     "output_type": "stream",
     "text": [
      "Enter the num2: 21\n"
     ]
    }
   ],
   "source": [
    "num2=input(\"Enter the num2:\")"
   ]
  },
  {
   "cell_type": "code",
   "execution_count": 20,
   "id": "7de1228e-7491-4b75-93a1-12c3026ab625",
   "metadata": {},
   "outputs": [],
   "source": [
    "add=num1+num2"
   ]
  },
  {
   "cell_type": "code",
   "execution_count": 21,
   "id": "8922f130-131f-497e-9177-7ed4f09a4b36",
   "metadata": {},
   "outputs": [
    {
     "name": "stdout",
     "output_type": "stream",
     "text": [
      "1321\n"
     ]
    }
   ],
   "source": [
    "print(add)\n"
   ]
  },
  {
   "cell_type": "code",
   "execution_count": 23,
   "id": "5f4df4ec-4075-4da9-9f63-ad8e330e2d2e",
   "metadata": {},
   "outputs": [
    {
     "name": "stdin",
     "output_type": "stream",
     "text": [
      "Enter the num1: 15\n",
      "Enter the num2: 26\n"
     ]
    },
    {
     "name": "stdout",
     "output_type": "stream",
     "text": [
      "41\n",
      "390\n"
     ]
    }
   ],
   "source": [
    "num1=int(input(\"Enter the num1:\"))\n",
    "num2=int(input(\"Enter the num2:\"))\n",
    "add=num1+num2\n",
    "mul=num1*num2\n",
    "print(add)\n",
    "print(mul)"
   ]
  },
  {
   "cell_type": "code",
   "execution_count": 25,
   "id": "77232aba-f927-417e-876e-8da52e109e1c",
   "metadata": {},
   "outputs": [
    {
     "name": "stdout",
     "output_type": "stream",
     "text": [
      "0.5769230769230769\n"
     ]
    }
   ],
   "source": [
    "div=num1/num2\n",
    "print(div)"
   ]
  },
  {
   "cell_type": "code",
   "execution_count": 29,
   "id": "188dc74a-1f25-4e4f-87cd-65938d92644f",
   "metadata": {},
   "outputs": [
    {
     "name": "stdin",
     "output_type": "stream",
     "text": [
      "Enter your age : 3\n"
     ]
    }
   ],
   "source": [
    "num=int(input(\"Enter your age :\"))"
   ]
  }
 ],
 "metadata": {
  "kernelspec": {
   "display_name": "Python 3 (ipykernel)",
   "language": "python",
   "name": "python3"
  },
  "language_info": {
   "codemirror_mode": {
    "name": "ipython",
    "version": 3
   },
   "file_extension": ".py",
   "mimetype": "text/x-python",
   "name": "python",
   "nbconvert_exporter": "python",
   "pygments_lexer": "ipython3",
   "version": "3.12.4"
  }
 },
 "nbformat": 4,
 "nbformat_minor": 5
}
