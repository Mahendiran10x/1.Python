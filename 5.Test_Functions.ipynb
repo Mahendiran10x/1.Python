{
 "cells": [
  {
   "cell_type": "code",
   "execution_count": 1,
   "id": "ee5400c3-f6d7-46dc-a32a-84e13cff1235",
   "metadata": {},
   "outputs": [
    {
     "name": "stdout",
     "output_type": "stream",
     "text": [
      "HOPE AI\n"
     ]
    }
   ],
   "source": [
    "print(\"HOPE AI\")"
   ]
  },
  {
   "cell_type": "code",
   "execution_count": 5,
   "id": "534c7d11-aa1f-487c-99f2-b66ccfb428ca",
   "metadata": {},
   "outputs": [
    {
     "name": "stdin",
     "output_type": "stream",
     "text": [
      "ENTER YOUR INSTITUTE NAME? : HOPE AI\n"
     ]
    }
   ],
   "source": [
    "N=input(\"ENTER YOUR INSTITUTE NAME? :\")"
   ]
  },
  {
   "cell_type": "code",
   "execution_count": 8,
   "id": "294bf366-ae9f-4370-9e86-015470ee2356",
   "metadata": {},
   "outputs": [
    {
     "name": "stdin",
     "output_type": "stream",
     "text": [
      "ENTER YOUR INSTITUTE NAME? :\n",
      " HOPE AI\n"
     ]
    },
    {
     "name": "stdout",
     "output_type": "stream",
     "text": [
      "You entered HOPE AI\n"
     ]
    }
   ],
   "source": [
    "n= input(\"ENTER YOUR INSTITUTE NAME? :\\n\")\n",
    " \n",
    "print(f'You entered {n}')"
   ]
  },
  {
   "cell_type": "code",
   "execution_count": 9,
   "id": "bebd216f-e338-47d0-976a-919030ee49e0",
   "metadata": {},
   "outputs": [
    {
     "name": "stdin",
     "output_type": "stream",
     "text": [
      "ENTER YOUR NAME: MAHENDIRAN S\n",
      "ENTER YOUR AGE: 26\n",
      "ENTER YOUR SCHOOL NAME: MAHENDRA ENGINEERING COLLEGE\n",
      "ENTER YOUR DEGREE: B.E ( mechanical engineering )\n"
     ]
    }
   ],
   "source": [
    "N1=input(\"ENTER YOUR NAME:\")\n",
    "N2=input(\"ENTER YOUR AGE:\")\n",
    "N3=input(\"ENTER YOUR SCHOOL NAME:\")\n",
    "N4=input(\"ENTER YOUR DEGREE:\")"
   ]
  },
  {
   "cell_type": "code",
   "execution_count": 18,
   "id": "8b0bf85b-cdbe-44c0-bff1-40f15b088588",
   "metadata": {},
   "outputs": [
    {
     "name": "stdin",
     "output_type": "stream",
     "text": [
      "a= 43\n",
      "b= 34\n"
     ]
    },
    {
     "name": "stdout",
     "output_type": "stream",
     "text": [
      "add= 77\n"
     ]
    }
   ],
   "source": [
    "v1=int(input('a='))\n",
    "v2=int(input('b='))\n",
    "add=v1+v2\n",
    "print(f'add= {add}')"
   ]
  },
  {
   "cell_type": "code",
   "execution_count": 19,
   "id": "06eb3ad5-ba2f-43a0-bfde-7e8977ad7229",
   "metadata": {},
   "outputs": [
    {
     "name": "stdin",
     "output_type": "stream",
     "text": [
      "a= 43\n",
      "b= 34\n"
     ]
    },
    {
     "name": "stdout",
     "output_type": "stream",
     "text": [
      "sub= 9\n"
     ]
    }
   ],
   "source": [
    "v1=int(input('a='))\n",
    "v2=int(input('b='))\n",
    "add=v1-v2\n",
    "print(f'sub= {add}')"
   ]
  },
  {
   "cell_type": "code",
   "execution_count": 20,
   "id": "2cd2c3aa-af85-42ba-a733-654a71e9b5e2",
   "metadata": {},
   "outputs": [
    {
     "name": "stdin",
     "output_type": "stream",
     "text": [
      "a= 63\n",
      "b= 97\n"
     ]
    },
    {
     "name": "stdout",
     "output_type": "stream",
     "text": [
      "mul= 6111\n"
     ]
    }
   ],
   "source": [
    "v1=int(input('a='))\n",
    "v2=int(input('b='))\n",
    "add=v1*v2\n",
    "print(f'mul= {add}')"
   ]
  },
  {
   "cell_type": "code",
   "execution_count": 21,
   "id": "a4cb61b3-e633-454e-bb1b-e7efbc8403c9",
   "metadata": {},
   "outputs": [
    {
     "name": "stdin",
     "output_type": "stream",
     "text": [
      "a= 76\n",
      "b= 31\n"
     ]
    },
    {
     "name": "stdout",
     "output_type": "stream",
     "text": [
      "div= 2.4516129032258065\n"
     ]
    }
   ],
   "source": [
    "v1=int(input('a='))\n",
    "v2=int(input('b='))\n",
    "add=v1/v2\n",
    "print(f'div= {add}')"
   ]
  },
  {
   "cell_type": "code",
   "execution_count": 6,
   "id": "185e1216-af39-4fa4-a6c8-4305be292f4a",
   "metadata": {},
   "outputs": [
    {
     "name": "stdin",
     "output_type": "stream",
     "text": [
      "a= 76\n",
      "b= 31\n"
     ]
    },
    {
     "name": "stdout",
     "output_type": "stream",
     "text": [
      "floor div = 2\n"
     ]
    }
   ],
   "source": [
    "v1=int(input('a='))\n",
    "v2=int(input('b='))\n",
    "add=round ( v1/v2 )\n",
    "print(f'floor div = {add}')"
   ]
  },
  {
   "cell_type": "code",
   "execution_count": 4,
   "id": "33f022f6-6281-4363-9f80-18ac6f4582c6",
   "metadata": {},
   "outputs": [
    {
     "name": "stdout",
     "output_type": "stream",
     "text": [
      "2\n"
     ]
    }
   ],
   "source": [
    "result = 76 / 31\n",
    "rounded_result = round(result)\n",
    "print(rounded_result)"
   ]
  },
  {
   "cell_type": "code",
   "execution_count": null,
   "id": "70154f98-d399-48c8-a14d-812a4a1a4db4",
   "metadata": {},
   "outputs": [],
   "source": [
    "#modulo ( reminder of the division )"
   ]
  },
  {
   "cell_type": "code",
   "execution_count": 15,
   "id": "03ef220e-c5ca-4c6f-967d-551521b426e4",
   "metadata": {},
   "outputs": [
    {
     "name": "stdin",
     "output_type": "stream",
     "text": [
      "a= 76\n",
      "b= 31\n"
     ]
    },
    {
     "name": "stdout",
     "output_type": "stream",
     "text": [
      "modulo = 14\n"
     ]
    }
   ],
   "source": [
    "v1=int(input('a='))\n",
    "v2=int(input('b='))\n",
    "add=round ( v1%v2 )\n",
    "print(f'modulo = {add}')"
   ]
  },
  {
   "cell_type": "code",
   "execution_count": null,
   "id": "fc17e574-ec7f-48f4-b048-d29896a87c78",
   "metadata": {},
   "outputs": [],
   "source": [
    "#power"
   ]
  },
  {
   "cell_type": "markdown",
   "id": "6948f581-92f9-4364-8555-06b05b2a36c0",
   "metadata": {},
   "source": [
    "sample :\n",
    "result = 2 ** 3\r\n",
    "print(result\n",
    "\n",
    "result = pow(2, 3)\r\n",
    "print(result)\n",
    ")\r\n"
   ]
  },
  {
   "cell_type": "code",
   "execution_count": 9,
   "id": "a829f181-d71c-4f82-8fa3-b2cd837ce772",
   "metadata": {},
   "outputs": [
    {
     "name": "stdin",
     "output_type": "stream",
     "text": [
      "a= 2\n",
      "b= 2\n"
     ]
    },
    {
     "name": "stdout",
     "output_type": "stream",
     "text": [
      "power = 4\n"
     ]
    }
   ],
   "source": [
    "v1=int(input('a='))\n",
    "v2=int(input('b='))\n",
    "add=round( v1**v2 )\n",
    "print(f'power = {add}')"
   ]
  },
  {
   "cell_type": "code",
   "execution_count": 26,
   "id": "755d4fe8-8f39-421b-82d7-f99a30a7dbc0",
   "metadata": {},
   "outputs": [
    {
     "name": "stdout",
     "output_type": "stream",
     "text": [
      "range(0, 10)\n",
      "0\n",
      "1\n",
      "2\n",
      "3\n",
      "4\n",
      "5\n",
      "6\n",
      "7\n",
      "8\n",
      "9\n",
      "10\n",
      "11\n",
      "12\n",
      "13\n",
      "14\n",
      "15\n",
      "16\n",
      "17\n",
      "18\n",
      "19\n"
     ]
    }
   ],
   "source": [
    "#print using \n",
    "print(range(0,10))\n",
    "\n",
    "for num in range(0,20):\n",
    "    print(num)"
   ]
  },
  {
   "cell_type": "code",
   "execution_count": 27,
   "id": "0532d68f-5e9d-493c-ad07-247b40682284",
   "metadata": {},
   "outputs": [
    {
     "name": "stdout",
     "output_type": "stream",
     "text": [
      "10 11 12 13 14 15 16 17 18 19 "
     ]
    }
   ],
   "source": [
    "#print range 10 to 20:\n",
    "for num in range(10,20):\n",
    "    print(num, end=' ')"
   ]
  },
  {
   "cell_type": "code",
   "execution_count": null,
   "id": "1a9f7bce-8ea5-4465-9df1-b59b46c2d376",
   "metadata": {},
   "outputs": [],
   "source": [
    "#print number of items in the list by using len:\n",
    "\n",
    "sample:\n",
    "my_list = [1, 2, 3, 4, 5]\n",
    "print(len(my_list))\n",
    "\n",
    "my_string = \"Hello, world!\"\n",
    "print(len(my_string))\n"
   ]
  },
  {
   "cell_type": "code",
   "execution_count": 37,
   "id": "8d7dc2dd-8f9a-4806-8402-dc0d6fa650b8",
   "metadata": {},
   "outputs": [
    {
     "name": "stdout",
     "output_type": "stream",
     "text": [
      "[10, 20, 14, 55, 43, 87, 76]\n",
      "Number of the item in the List2:\n",
      "7\n"
     ]
    }
   ],
   "source": [
    "list = [10, 20, 14, 55, 43, 87, 76]\n",
    "print(list)  \n",
    "print('Number of the item in the List2:')\n",
    "print(len(list))"
   ]
  },
  {
   "cell_type": "code",
   "execution_count": 10,
   "id": "73b046a6-7d53-4d28-83c7-a2f0f07e9850",
   "metadata": {},
   "outputs": [
    {
     "name": "stdout",
     "output_type": "stream",
     "text": [
      "A\n",
      "r\n",
      "t\n",
      "i\n",
      "f\n",
      "i\n",
      "c\n",
      "i\n",
      "a\n",
      "l\n",
      "I\n",
      "n\n",
      "t\n",
      "e\n",
      "l\n",
      "l\n",
      "i\n",
      "g\n",
      "e\n",
      "n\n",
      "c\n",
      "e\n"
     ]
    }
   ],
   "source": [
    "name = \"ArtificialIntelligence\"\n",
    "for char in name:\n",
    "    print(char)"
   ]
  },
  {
   "cell_type": "code",
   "execution_count": 12,
   "id": "27386614-f7fc-4c03-a3ab-99d6ccbd33f1",
   "metadata": {},
   "outputs": [
    {
     "name": "stdin",
     "output_type": "stream",
     "text": [
      " -Your Name-\n",
      " -Your Age-\n",
      " -Your Profession-\n"
     ]
    }
   ],
   "source": [
    "N1=input()\n",
    "N2=input()\n",
    "N3=input()"
   ]
  },
  {
   "cell_type": "code",
   "execution_count": null,
   "id": "e4ee4fea-33a3-4ba7-9771-1d6be4a2f799",
   "metadata": {},
   "outputs": [],
   "source": [
    "# using tupel\n",
    "sample:\n",
    "\n",
    "Tuple1 = ('Geeks', 'For')\n",
    "print(\"\\nTuple with the use of String: \")\n",
    "print(Tuple1)"
   ]
  },
  {
   "cell_type": "code",
   "execution_count": 17,
   "id": "d2d00c58-bded-46e5-b23f-85dd8d4126ec",
   "metadata": {},
   "outputs": [
    {
     "name": "stdout",
     "output_type": "stream",
     "text": [
      "(1, 'Welcome', 2, 'Hope')\n"
     ]
    }
   ],
   "source": [
    "Tuple1 = ( 1 , 'Welcome' , 2 , 'Hope' )\n",
    "print(Tuple1)"
   ]
  },
  {
   "cell_type": "code",
   "execution_count": 21,
   "id": "6a35e553-3135-443a-afb4-fcfb2962aa6e",
   "metadata": {},
   "outputs": [
    {
     "name": "stdout",
     "output_type": "stream",
     "text": [
      "((0, 1, 2, 3), ('python', 'Hope'))\n"
     ]
    }
   ],
   "source": [
    "T1 = (0, 1 , 2 , 3) \n",
    "T2 = ('python' , 'Hope' )\n",
    "T3 = ( T1 , T2 )\n",
    "print(T3)"
   ]
  },
  {
   "cell_type": "code",
   "execution_count": null,
   "id": "4bf1bd3f-9d6b-4d2c-9b67-17a6729e91d4",
   "metadata": {},
   "outputs": [],
   "source": [
    "#print odd number in the list\n",
    "\n",
    "sample:\n",
    "\n",
    "numbers = [1, 2, 3, 4, 5, 6, 7, 8, 9, 10]  # Example list of numbers\n",
    "for num in numbers:\n",
    "    if num % 2 != 0:  # Check if the number is odd\n",
    "        print(num)"
   ]
  },
  {
   "cell_type": "code",
   "execution_count": 23,
   "id": "e044d4a8-2453-4d18-885e-5a872e70d615",
   "metadata": {},
   "outputs": [
    {
     "name": "stdout",
     "output_type": "stream",
     "text": [
      "19\n",
      "25\n",
      "1\n"
     ]
    }
   ],
   "source": [
    "List = (20,10,16,19,25,1,276,188)\n",
    "\n",
    "for num in List:\n",
    "    if num % 2 != 0:\n",
    "        print(num)"
   ]
  },
  {
   "cell_type": "code",
   "execution_count": 24,
   "id": "dec0a461-66e3-4c69-a426-d7c1ea9e65e1",
   "metadata": {},
   "outputs": [
    {
     "name": "stdout",
     "output_type": "stream",
     "text": [
      "20\n",
      "10\n",
      "16\n",
      "276\n",
      "188\n"
     ]
    }
   ],
   "source": [
    "#print even number in the list:\n",
    "\n",
    "List = (20,10,16,19,25,1,276,188)\n",
    "\n",
    "for num in List:\n",
    "    if num % 2 != 1:\n",
    "        print(num)"
   ]
  },
  {
   "cell_type": "code",
   "execution_count": 6,
   "id": "915a5d24-77a4-49d2-9234-940ef933d06c",
   "metadata": {},
   "outputs": [
    {
     "name": "stdin",
     "output_type": "stream",
     "text": [
      "Value: 10\n"
     ]
    },
    {
     "name": "stdout",
     "output_type": "stream",
     "text": [
      "Correct\n"
     ]
    }
   ],
   "source": [
    "# print 'CORRECT' if i == 10\n",
    "\n",
    "i=int(input('Value:'))\n",
    "if(i==10):\n",
    "    print('Correct')\n",
    "else:\n",
    "    print('wrong')"
   ]
  },
  {
   "cell_type": "code",
   "execution_count": 15,
   "id": "a75259b4-650a-46bf-a2cc-3cf6a0b72344",
   "metadata": {},
   "outputs": [
    {
     "name": "stdin",
     "output_type": "stream",
     "text": [
      "Enter your password:  scjnj\n"
     ]
    },
    {
     "name": "stdout",
     "output_type": "stream",
     "text": [
      "Access denied! Incorrect password.\n"
     ]
    }
   ],
   "source": [
    "# Check the password, using if and else\n",
    "\n",
    "# Predefined password\n",
    "correct_password = \"mySecret123\"\n",
    "\n",
    "# Get password input from the user\n",
    "user_password = input(\"Enter your password: \")\n",
    "\n",
    "# Check if the password is correct\n",
    "if user_password == correct_password:\n",
    "    print(\"Access granted!\")\n",
    "else:\n",
    "    print(\"Access denied! Incorrect password.\")"
   ]
  },
  {
   "cell_type": "code",
   "execution_count": 18,
   "id": "6c085295-78b6-4f0a-9c78-36903e58d1ab",
   "metadata": {},
   "outputs": [
    {
     "name": "stdin",
     "output_type": "stream",
     "text": [
      "Enter the Password: Hopes@123\n"
     ]
    },
    {
     "name": "stdout",
     "output_type": "stream",
     "text": [
      "Your Password is Correct\n"
     ]
    }
   ],
   "source": [
    "question=input('Enter the Password:')\n",
    "answer=\"Hopes@123\"\n",
    "if question == answer:\n",
    "    print('Your Password is Correct')\n",
    "else:\n",
    "    print('Your Password is wrong')"
   ]
  },
  {
   "cell_type": "code",
   "execution_count": null,
   "id": "fe82aad2-5ba3-44bd-b4d2-d3329486664d",
   "metadata": {},
   "outputs": [],
   "source": [
    "# Check whether the given number is divisible by 5\n",
    "\n",
    "# Get age input from the user\n",
    "age = int(input(\"Enter your age: \"))\n",
    "\n",
    "# Categorize based on age\n",
    "if age < 13:\n",
    "    category = \"Child\"\n",
    "elif 13 <= age < 18:\n",
    "    category = \"Teenager\"\n",
    "elif 18 <= age < 60:\n",
    "    category = \"Adult\"\n",
    "else:\n",
    "    category = \"Senior Citizen\"\n",
    "\n",
    "# Output the category\n",
    "print(f\"You are categorized as: {category}\")\n"
   ]
  },
  {
   "cell_type": "code",
   "execution_count": 23,
   "id": "2acbf428-b950-4b42-ad23-922dc54788bd",
   "metadata": {},
   "outputs": [
    {
     "name": "stdin",
     "output_type": "stream",
     "text": [
      "Age = 20\n"
     ]
    },
    {
     "name": "stdout",
     "output_type": "stream",
     "text": [
      "Adult\n"
     ]
    }
   ],
   "source": [
    "A=int(input('Age ='))\n",
    "if A < 18 :\n",
    "    print('chindren')\n",
    "\n",
    "else:\n",
    "    print('Adult')"
   ]
  },
  {
   "cell_type": "code",
   "execution_count": null,
   "id": "93625c88-581b-4993-8a1d-6958a8602455",
   "metadata": {},
   "outputs": [],
   "source": [
    ": # Find whether given number is positive or negative\n",
    "\n",
    "# Get number input from the user\n",
    "number = float(input(\"Enter a number: \"))\n",
    "\n",
    "# Check if the number is positive, negative, or zero\n",
    "if number > 0:\n",
    "    print(\"The number is positive.\")\n",
    "elif number < 0:\n",
    "    print(\"The number is negative.\")\n",
    "else:\n",
    "    print(\"The number is zero.\")"
   ]
  },
  {
   "cell_type": "code",
   "execution_count": 26,
   "id": "6463488b-7b29-4b98-8b94-de430b761042",
   "metadata": {},
   "outputs": [
    {
     "name": "stdin",
     "output_type": "stream",
     "text": [
      "Enter any number = -1\n"
     ]
    },
    {
     "name": "stdout",
     "output_type": "stream",
     "text": [
      "Number is negative\n"
     ]
    }
   ],
   "source": [
    "N=int(input('Enter any number ='))\n",
    "\n",
    "if N > 0:\n",
    "    print('Number is positivie')\n",
    "\n",
    "elif N < 0:\n",
    "    print('Number is negative')\n",
    "\n",
    "else:\n",
    "    print('Number is Zero')"
   ]
  },
  {
   "cell_type": "code",
   "execution_count": null,
   "id": "9f8dd9e0-8fcc-4b59-a8a6-0136a526427b",
   "metadata": {},
   "outputs": [],
   "source": [
    "# Check whether the given number is divisible by 5\n",
    "\n",
    "# Get number input from the user\n",
    "number = int(input(\"Enter a number: \"))\n",
    "\n",
    "# Check if the number is divisible by 5\n",
    "if number % 5 == 0:\n",
    "    print(\"The number is divisible by 5.\")\n",
    "else:\n",
    "    print(\"The number is not divisible by 5.\")\n"
   ]
  },
  {
   "cell_type": "code",
   "execution_count": 28,
   "id": "ed539e0f-7a38-4ce4-bf46-1ca2b9ed5c45",
   "metadata": {},
   "outputs": [
    {
     "name": "stdin",
     "output_type": "stream",
     "text": [
      "Enter the number : 22\n"
     ]
    },
    {
     "name": "stdout",
     "output_type": "stream",
     "text": [
      "Number is not divisible by 5.\n"
     ]
    }
   ],
   "source": [
    "N=int(input('Enter the number :'))\n",
    "\n",
    "if N % 5 == 0:\n",
    "    print('Number is divisible by 5.')\n",
    "\n",
    "else:\n",
    "    print('Number is not divisible by 5.')"
   ]
  },
  {
   "cell_type": "code",
   "execution_count": null,
   "id": "01007bec-a829-4309-a713-6f2fd10ba8a8",
   "metadata": {},
   "outputs": [],
   "source": []
  }
 ],
 "metadata": {
  "kernelspec": {
   "display_name": "Python 3 (ipykernel)",
   "language": "python",
   "name": "python3"
  },
  "language_info": {
   "codemirror_mode": {
    "name": "ipython",
    "version": 3
   },
   "file_extension": ".py",
   "mimetype": "text/x-python",
   "name": "python",
   "nbconvert_exporter": "python",
   "pygments_lexer": "ipython3",
   "version": "3.12.4"
  }
 },
 "nbformat": 4,
 "nbformat_minor": 5
}
