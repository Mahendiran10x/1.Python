{
 "cells": [
  {
   "cell_type": "code",
   "execution_count": 1,
   "id": "377eba57-2786-4f36-8771-c32a49cdfce0",
   "metadata": {},
   "outputs": [
    {
     "name": "stdout",
     "output_type": "stream",
     "text": [
      "Welcome to Assignment-1\n"
     ]
    }
   ],
   "source": [
    "print (\"Welcome to Assignment-1\")"
   ]
  },
  {
   "cell_type": "code",
   "execution_count": 3,
   "id": "707fc8c4-d8e8-4d14-a05a-af1f5a34d736",
   "metadata": {},
   "outputs": [
    {
     "name": "stdout",
     "output_type": "stream",
     "text": [
      "Num1= 10\n",
      "Num2= 30\n",
      "Add= 40\n"
     ]
    }
   ],
   "source": [
    "print(\"Num1= 10\")\n",
    "print(\"Num2= 30\")\n",
    "print('Add= 40')"
   ]
  },
  {
   "cell_type": "code",
   "execution_count": 4,
   "id": "557ee9d7-9c7f-4407-8a85-902cd1a4be5a",
   "metadata": {},
   "outputs": [
    {
     "name": "stdin",
     "output_type": "stream",
     "text": [
      "Enter a number:  10\n"
     ]
    }
   ],
   "source": [
    "Num1 = int(input(\"Enter a number: \"))"
   ]
  },
  {
   "cell_type": "code",
   "execution_count": 10,
   "id": "3afd943a-b0b4-4fbc-b6e9-6da05ea6d0a6",
   "metadata": {},
   "outputs": [
    {
     "name": "stdin",
     "output_type": "stream",
     "text": [
      "Enter a number: 30\n"
     ]
    }
   ],
   "source": [
    "Num2 = int(input(\"Enter a number:\"))"
   ]
  },
  {
   "cell_type": "code",
   "execution_count": 11,
   "id": "fe24a388-05ea-4502-b5f5-2b7de02b5ae6",
   "metadata": {},
   "outputs": [
    {
     "name": "stdout",
     "output_type": "stream",
     "text": [
      "Num1= 10\n",
      "Num2= 30\n",
      "Add= 40\n"
     ]
    }
   ],
   "source": [
    "Add = Num1+Num2\n",
    "print (\"Num1= {0}\".format(Num1))\n",
    "print (\"Num2= {0}\".format(Num2))\n",
    "print (\"Add= {0}\".format(Add))"
   ]
  },
  {
   "cell_type": "code",
   "execution_count": 20,
   "id": "fb1f5ee4-f20a-4fc2-b36d-0d7127df23a2",
   "metadata": {},
   "outputs": [
    {
     "name": "stdin",
     "output_type": "stream",
     "text": [
      "Enter a height:  179\n"
     ]
    }
   ],
   "source": [
    "H = int(input(\"Enter a height: \"))"
   ]
  },
  {
   "cell_type": "code",
   "execution_count": 13,
   "id": "4ba475ff-d651-4a27-81a9-3cc4e9560312",
   "metadata": {},
   "outputs": [
    {
     "name": "stdin",
     "output_type": "stream",
     "text": [
      "Enter a weight:  82\n"
     ]
    }
   ],
   "source": [
    "W = int(input(\"Enter a weight: \"))"
   ]
  },
  {
   "cell_type": "code",
   "execution_count": 21,
   "id": "b59d623b-3c12-4a8b-ad2b-777e36587be4",
   "metadata": {},
   "outputs": [
    {
     "name": "stdout",
     "output_type": "stream",
     "text": [
      "Hieght = 179\n",
      "Weight = 82\n",
      "BMI = 25.592209980961893\n",
      "Your are in a Over weight\n"
     ]
    }
   ],
   "source": [
    "H2 = H / 100\n",
    "BMI = (W) / (H2*H2)\n",
    "\n",
    "print(\"Hieght = {0}\".format(H))\n",
    "\n",
    "print(\"Weight = {0}\".format(W))\n",
    "\n",
    "print(\"BMI = {0}\".format(BMI))\n",
    "\n",
    "if(BMI<=18.4):\n",
    "    print(\"You are in a Under weight\")\n",
    "    \n",
    "elif(BMI<=24.9):\n",
    "    print(\"You are in a Normal Weight\")\n",
    "    \n",
    "else:\n",
    "    print(\"Your are in a Over weight\")"
   ]
  },
  {
   "cell_type": "code",
   "execution_count": 24,
   "id": "5c168030-69f4-4bab-a1dd-5afbba6f306f",
   "metadata": {},
   "outputs": [
    {
     "name": "stdin",
     "output_type": "stream",
     "text": [
      "Enter the BMI Index:  34\n"
     ]
    }
   ],
   "source": [
    "BMI = int(input(\"Enter the BMI Index: \"))"
   ]
  },
  {
   "cell_type": "code",
   "execution_count": 25,
   "id": "b0a51ff2-a4b0-493e-bbfb-501effb8eef0",
   "metadata": {},
   "outputs": [
    {
     "name": "stdout",
     "output_type": "stream",
     "text": [
      "Enter the BMI Index: 34\n",
      "very Over weight\n"
     ]
    }
   ],
   "source": [
    "print(\"Enter the BMI Index: {0}\".format(BMI))\n",
    "\n",
    "if(BMI<=18.4):\n",
    "    print(\"Under weight\")\n",
    "    \n",
    "elif(BMI<=24.9):\n",
    "    print(\"Normal Weight\")\n",
    "\n",
    "elif(BMI<=33.9):\n",
    "    print(\"over Weight\")\n",
    "    \n",
    "else:\n",
    "    print(\"very Over weight\")"
   ]
  }
 ],
 "metadata": {
  "kernelspec": {
   "display_name": "Python 3 (ipykernel)",
   "language": "python",
   "name": "python3"
  },
  "language_info": {
   "codemirror_mode": {
    "name": "ipython",
    "version": 3
   },
   "file_extension": ".py",
   "mimetype": "text/x-python",
   "name": "python",
   "nbconvert_exporter": "python",
   "pygments_lexer": "ipython3",
   "version": "3.12.4"
  }
 },
 "nbformat": 4,
 "nbformat_minor": 5
}
