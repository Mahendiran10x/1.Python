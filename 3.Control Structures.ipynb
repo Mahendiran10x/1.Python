{
 "cells": [
  {
   "cell_type": "code",
   "execution_count": 30,
   "id": "d255b2ab-c335-4fc5-b083-243ff77f4338",
   "metadata": {},
   "outputs": [],
   "source": [
    "#if\n",
    "if():\n",
    "    print()"
   ]
  },
  {
   "cell_type": "code",
   "execution_count": 39,
   "id": "c124cb02-b0a8-40e4-9697-1a7b1f97f82a",
   "metadata": {},
   "outputs": [
    {
     "name": "stdin",
     "output_type": "stream",
     "text": [
      "Enter the age : 5\n"
     ]
    }
   ],
   "source": [
    "age=int(input(\"Enter the age :\"))"
   ]
  },
  {
   "cell_type": "code",
   "execution_count": 40,
   "id": "522193e5-196e-4496-bd8e-6f89fa5710d3",
   "metadata": {},
   "outputs": [
    {
     "name": "stdout",
     "output_type": "stream",
     "text": [
      "child\n"
     ]
    }
   ],
   "source": [
    "if(age==18):\n",
    "    print(\"Adult\")\n",
    "\n",
    "if(age<18):\n",
    "    print(\"child\")\n",
    "\n",
    "if(age>18):\n",
    "    print(\"Adult\")"
   ]
  },
  {
   "cell_type": "code",
   "execution_count": null,
   "id": "ab09be70-3110-415d-91d5-5c9233e99046",
   "metadata": {},
   "outputs": [],
   "source": [
    "#13 #independent"
   ]
  },
  {
   "cell_type": "code",
   "execution_count": null,
   "id": "ce5a583a-65ad-404a-adeb-719c6f1821c3",
   "metadata": {},
   "outputs": [],
   "source": [
    "if loop"
   ]
  },
  {
   "cell_type": "code",
   "execution_count": null,
   "id": "3ee057b4-281a-4430-b724-7a3120000091",
   "metadata": {},
   "outputs": [],
   "source": [
    "#if\n",
    "if():\n",
    "    print()"
   ]
  },
  {
   "cell_type": "code",
   "execution_count": null,
   "id": "3fb04ad4-b9a7-433f-a62a-d7037f04387a",
   "metadata": {},
   "outputs": [],
   "source": [
    "for loop"
   ]
  },
  {
   "cell_type": "code",
   "execution_count": null,
   "id": "43962ff4-ed9f-49cb-8839-fee220d1ea4d",
   "metadata": {},
   "outputs": [],
   "source": [
    "for temp in range (1,11):"
   ]
  },
  {
   "cell_type": "code",
   "execution_count": null,
   "id": "e257d8cd-c5ac-4528-be90-76a8ab25d233",
   "metadata": {},
   "outputs": [],
   "source": [
    "functional clause"
   ]
  },
  {
   "cell_type": "raw",
   "id": "46a1e8a6-70d2-44b4-b479-20a1a1aaa192",
   "metadata": {},
   "source": [
    "def ():"
   ]
  },
  {
   "cell_type": "code",
   "execution_count": 7,
   "id": "81e7e685-762b-4f25-a2c8-3e7b7c86516c",
   "metadata": {},
   "outputs": [],
   "source": [
    "#14 #if-else"
   ]
  },
  {
   "cell_type": "code",
   "execution_count": 8,
   "id": "354d47b8-58f6-477f-b9d2-2b071ad50574",
   "metadata": {},
   "outputs": [
    {
     "name": "stdin",
     "output_type": "stream",
     "text": [
      "Enter the age : 14\n"
     ]
    }
   ],
   "source": [
    "age=int(input(\"Enter the age :\"))"
   ]
  },
  {
   "cell_type": "code",
   "execution_count": 9,
   "id": "18ebcd49-a4a0-49f1-a5e6-f50be03c92cf",
   "metadata": {},
   "outputs": [
    {
     "name": "stdout",
     "output_type": "stream",
     "text": [
      "children\n"
     ]
    }
   ],
   "source": [
    "if(age>=18):\n",
    "    print(\"adult\")\n",
    "\n",
    "else:\n",
    "    print(\"children\")"
   ]
  },
  {
   "cell_type": "code",
   "execution_count": 10,
   "id": "7896707f-4133-4bd5-ac3e-aebfcc8b54a4",
   "metadata": {},
   "outputs": [],
   "source": [
    "#15 #if-elif"
   ]
  },
  {
   "cell_type": "code",
   "execution_count": 15,
   "id": "64ae3409-fa12-411a-889c-0bc3040db41e",
   "metadata": {},
   "outputs": [
    {
     "name": "stdin",
     "output_type": "stream",
     "text": [
      "Enter the age : 49\n"
     ]
    }
   ],
   "source": [
    "age=int(input(\"Enter the age :\"))"
   ]
  },
  {
   "cell_type": "code",
   "execution_count": 16,
   "id": "9c219b4e-f50b-493d-97db-bd9f8f0e1bb0",
   "metadata": {},
   "outputs": [
    {
     "name": "stdout",
     "output_type": "stream",
     "text": [
      "older\n"
     ]
    }
   ],
   "source": [
    "if(age<=5):\n",
    "    print(\"children\")\n",
    "\n",
    "elif(age<=26):\n",
    "    print(\"boy\")\n",
    "\n",
    "elif(age<=45):\n",
    "    print(\"men\")\n",
    "\n",
    "else:\n",
    "    print(\"older\")"
   ]
  },
  {
   "cell_type": "code",
   "execution_count": null,
   "id": "511afb19-1e31-4438-96a1-26279f76c4a7",
   "metadata": {},
   "outputs": [],
   "source": [
    "#16 #if-overview\n",
    "\n",
    "if- single condition\n",
    "if & else - two condition\n",
    "if - elif - more than two condition\n",
    "if family - multiple condition"
   ]
  },
  {
   "cell_type": "code",
   "execution_count": null,
   "id": "99403fcf-88cf-4be3-8512-750644911f52",
   "metadata": {},
   "outputs": [],
   "source": [
    "#17 #for loop"
   ]
  },
  {
   "cell_type": "code",
   "execution_count": 20,
   "id": "2ac73fe9-7637-4122-9b4e-ef90863ca327",
   "metadata": {},
   "outputs": [
    {
     "name": "stdout",
     "output_type": "stream",
     "text": [
      "23\n",
      "14\n",
      "5\n",
      "47\n",
      "36\n",
      "61\n"
     ]
    }
   ],
   "source": [
    "lists=[23,14,5,47,36,61]\n",
    "for temp in lists:\n",
    "    print(temp)\n"
   ]
  },
  {
   "cell_type": "code",
   "execution_count": 25,
   "id": "f4c4d10b-8ce8-4569-a915-69fe4c6b1d4b",
   "metadata": {},
   "outputs": [
    {
     "name": "stdout",
     "output_type": "stream",
     "text": [
      "men\n",
      "boy\n",
      "children\n",
      "older\n",
      "men\n",
      "older\n"
     ]
    }
   ],
   "source": [
    "for age in lists:\n",
    "    if(age<12):\n",
    "        print(\"children\")\n",
    "    \n",
    "    elif(age<23):\n",
    "        print(\"boy\")\n",
    "    \n",
    "    elif(age<40):\n",
    "        print(\"men\")\n",
    "    \n",
    "    else:\n",
    "        print(\"older\")"
   ]
  },
  {
   "cell_type": "code",
   "execution_count": null,
   "id": "801f31d7-7d13-487d-85f5-3293b7248478",
   "metadata": {},
   "outputs": [],
   "source": [
    "#18 #oython code search"
   ]
  },
  {
   "cell_type": "code",
   "execution_count": null,
   "id": "18e42111-6cff-4d27-ae0d-57e482241318",
   "metadata": {},
   "outputs": [],
   "source": [
    "sample\n",
    "# Python program to check if the input number is odd or even.\n",
    "# A number is even if division by 2 gives a remainder of 0.\n",
    "# If the remainder is 1, it is an odd number.\n",
    "\n",
    "num = int(input(\"Enter a number: \"))\n",
    "if (num % 2) == 0:\n",
    "   print(\"{0} is Even\".format(num))\n",
    "else:\n",
    "   print(\"{0} is Odd\".format(num))"
   ]
  },
  {
   "cell_type": "code",
   "execution_count": 35,
   "id": "df39957b-1887-446c-9dd0-6a0bdaf07fde",
   "metadata": {},
   "outputs": [
    {
     "name": "stdin",
     "output_type": "stream",
     "text": [
      "Enter the num : 57\n"
     ]
    }
   ],
   "source": [
    "num=int(input(\"Enter the num :\"))"
   ]
  },
  {
   "cell_type": "code",
   "execution_count": 37,
   "id": "05ce2371-4b68-4739-bc99-e56d7c64c21d",
   "metadata": {},
   "outputs": [
    {
     "name": "stdout",
     "output_type": "stream",
     "text": [
      "odd number\n"
     ]
    }
   ],
   "source": [
    "if((num % 2)==1):\n",
    "    print(\"odd number\")\n",
    "\n",
    "else:\n",
    "    print(\"even number\")"
   ]
  },
  {
   "cell_type": "code",
   "execution_count": 38,
   "id": "0995874b-9bb4-4fbb-8184-9540eb9a49fd",
   "metadata": {},
   "outputs": [
    {
     "name": "stdin",
     "output_type": "stream",
     "text": [
      "Enter a number:  56\n"
     ]
    }
   ],
   "source": [
    "num = int(input(\"Enter a number: \"))"
   ]
  },
  {
   "cell_type": "code",
   "execution_count": 39,
   "id": "cd9163a7-3688-4b6b-9582-5e61c7b678a5",
   "metadata": {},
   "outputs": [
    {
     "name": "stdout",
     "output_type": "stream",
     "text": [
      "56 is Even\n"
     ]
    }
   ],
   "source": [
    "if (num % 2) == 0:\n",
    "   print(\"{0} is Even\".format(num))\n",
    "else:\n",
    "   print(\"{0} is Odd\".format(num))"
   ]
  },
  {
   "cell_type": "code",
   "execution_count": null,
   "id": "58586f89-260a-4b1f-8d68-8d4a0fe933d5",
   "metadata": {},
   "outputs": [],
   "source": [
    "#19 #range"
   ]
  },
  {
   "cell_type": "code",
   "execution_count": 42,
   "id": "1e74e86e-1e9e-4a3c-a06d-94fc9e71f1d8",
   "metadata": {},
   "outputs": [
    {
     "name": "stdout",
     "output_type": "stream",
     "text": [
      "range(0, 10)\n"
     ]
    }
   ],
   "source": [
    "range (0,10)\n",
    "print(range (0,10))"
   ]
  },
  {
   "cell_type": "code",
   "execution_count": 45,
   "id": "df76a68b-0c34-4dd3-8697-6faa9fc4bf6e",
   "metadata": {},
   "outputs": [
    {
     "name": "stdout",
     "output_type": "stream",
     "text": [
      "0\n",
      "1\n",
      "2\n",
      "3\n",
      "4\n",
      "5\n",
      "6\n",
      "7\n",
      "8\n",
      "9\n"
     ]
    }
   ],
   "source": [
    "for num in range (0,10):\n",
    "    print(num)"
   ]
  },
  {
   "cell_type": "code",
   "execution_count": 46,
   "id": "d5b68bef-1a9a-41b2-a375-b825f3b6de1c",
   "metadata": {},
   "outputs": [
    {
     "name": "stdout",
     "output_type": "stream",
     "text": [
      "29\n",
      "30\n",
      "31\n",
      "32\n",
      "33\n"
     ]
    }
   ],
   "source": [
    "for num in range (29,34):\n",
    "    print(num)"
   ]
  },
  {
   "cell_type": "code",
   "execution_count": 47,
   "id": "59be4816-69fc-4709-8963-b3607066edaa",
   "metadata": {},
   "outputs": [
    {
     "name": "stdout",
     "output_type": "stream",
     "text": [
      "0\n",
      "3\n",
      "6\n",
      "9\n",
      "12\n"
     ]
    }
   ],
   "source": [
    "for num in range (0,15,3):\n",
    "    print(num)"
   ]
  }
 ],
 "metadata": {
  "kernelspec": {
   "display_name": "Python 3 (ipykernel)",
   "language": "python",
   "name": "python3"
  },
  "language_info": {
   "codemirror_mode": {
    "name": "ipython",
    "version": 3
   },
   "file_extension": ".py",
   "mimetype": "text/x-python",
   "name": "python",
   "nbconvert_exporter": "python",
   "pygments_lexer": "ipython3",
   "version": "3.12.4"
  }
 },
 "nbformat": 4,
 "nbformat_minor": 5
}
